{
 "cells": [
  {
   "cell_type": "code",
   "execution_count": 1,
   "metadata": {},
   "outputs": [],
   "source": [
    "import pandas as pd\n",
    "import numpy as np\n",
    "%matplotlib inline\n",
    "import matplotlib\n",
    "import matplotlib.pyplot as plt"
   ]
  },
  {
   "cell_type": "code",
   "execution_count": 2,
   "metadata": {},
   "outputs": [
    {
     "name": "stdout",
     "output_type": "stream",
     "text": [
      "Index(['business_id', 'cool', 'date', 'funny', 'review_id', 'stars', 'text',\n",
      "       'useful', 'user_id'],\n",
      "      dtype='object')\n"
     ]
    },
    {
     "data": {
      "text/html": [
       "<div>\n",
       "<style scoped>\n",
       "    .dataframe tbody tr th:only-of-type {\n",
       "        vertical-align: middle;\n",
       "    }\n",
       "\n",
       "    .dataframe tbody tr th {\n",
       "        vertical-align: top;\n",
       "    }\n",
       "\n",
       "    .dataframe thead th {\n",
       "        text-align: right;\n",
       "    }\n",
       "</style>\n",
       "<table border=\"1\" class=\"dataframe\">\n",
       "  <thead>\n",
       "    <tr style=\"text-align: right;\">\n",
       "      <th></th>\n",
       "      <th>business_id</th>\n",
       "      <th>cool</th>\n",
       "      <th>date</th>\n",
       "      <th>funny</th>\n",
       "      <th>review_id</th>\n",
       "      <th>stars</th>\n",
       "      <th>text</th>\n",
       "      <th>useful</th>\n",
       "      <th>user_id</th>\n",
       "    </tr>\n",
       "  </thead>\n",
       "  <tbody>\n",
       "    <tr>\n",
       "      <th>0</th>\n",
       "      <td>ujmEBvifdJM6h6RLv4wQIg</td>\n",
       "      <td>0</td>\n",
       "      <td>2013-05-07 04:34:36</td>\n",
       "      <td>1</td>\n",
       "      <td>Q1sbwvVQXV2734tPgoKj4Q</td>\n",
       "      <td>1</td>\n",
       "      <td>Total bill for this horrible service? Over $8G...</td>\n",
       "      <td>6</td>\n",
       "      <td>hG7b0MtEbXx5QzbzE6C_VA</td>\n",
       "    </tr>\n",
       "    <tr>\n",
       "      <th>1</th>\n",
       "      <td>NZnhc2sEQy3RmzKTZnqtwQ</td>\n",
       "      <td>0</td>\n",
       "      <td>2017-01-14 21:30:33</td>\n",
       "      <td>0</td>\n",
       "      <td>GJXCdrto3ASJOqKeVWPi6Q</td>\n",
       "      <td>5</td>\n",
       "      <td>I *adore* Travis at the Hard Rock's new Kelly ...</td>\n",
       "      <td>0</td>\n",
       "      <td>yXQM5uF2jS6es16SJzNHfg</td>\n",
       "    </tr>\n",
       "    <tr>\n",
       "      <th>2</th>\n",
       "      <td>WTqjgwHlXbSFevF32_DJVw</td>\n",
       "      <td>0</td>\n",
       "      <td>2016-11-09 20:09:03</td>\n",
       "      <td>0</td>\n",
       "      <td>2TzJjDVDEuAW6MR5Vuc1ug</td>\n",
       "      <td>5</td>\n",
       "      <td>I have to say that this office really has it t...</td>\n",
       "      <td>3</td>\n",
       "      <td>n6-Gk65cPZL6Uz8qRm3NYw</td>\n",
       "    </tr>\n",
       "    <tr>\n",
       "      <th>3</th>\n",
       "      <td>ikCg8xy5JIg_NGPx-MSIDA</td>\n",
       "      <td>0</td>\n",
       "      <td>2018-01-09 20:56:38</td>\n",
       "      <td>0</td>\n",
       "      <td>yi0R0Ugj_xUx_Nek0-_Qig</td>\n",
       "      <td>5</td>\n",
       "      <td>Went in for a lunch. Steak sandwich was delici...</td>\n",
       "      <td>0</td>\n",
       "      <td>dacAIZ6fTM6mqwW5uxkskg</td>\n",
       "    </tr>\n",
       "    <tr>\n",
       "      <th>4</th>\n",
       "      <td>b1b1eb3uo-w561D0ZfCEiQ</td>\n",
       "      <td>0</td>\n",
       "      <td>2018-01-30 23:07:38</td>\n",
       "      <td>0</td>\n",
       "      <td>11a8sVPMUFtaC7_ABRkmtw</td>\n",
       "      <td>1</td>\n",
       "      <td>Today was my second out of three sessions I ha...</td>\n",
       "      <td>7</td>\n",
       "      <td>ssoyf2_x0EQMed6fgHeMyQ</td>\n",
       "    </tr>\n",
       "  </tbody>\n",
       "</table>\n",
       "</div>"
      ],
      "text/plain": [
       "              business_id  cool                 date  funny  \\\n",
       "0  ujmEBvifdJM6h6RLv4wQIg     0  2013-05-07 04:34:36      1   \n",
       "1  NZnhc2sEQy3RmzKTZnqtwQ     0  2017-01-14 21:30:33      0   \n",
       "2  WTqjgwHlXbSFevF32_DJVw     0  2016-11-09 20:09:03      0   \n",
       "3  ikCg8xy5JIg_NGPx-MSIDA     0  2018-01-09 20:56:38      0   \n",
       "4  b1b1eb3uo-w561D0ZfCEiQ     0  2018-01-30 23:07:38      0   \n",
       "\n",
       "                review_id  stars  \\\n",
       "0  Q1sbwvVQXV2734tPgoKj4Q      1   \n",
       "1  GJXCdrto3ASJOqKeVWPi6Q      5   \n",
       "2  2TzJjDVDEuAW6MR5Vuc1ug      5   \n",
       "3  yi0R0Ugj_xUx_Nek0-_Qig      5   \n",
       "4  11a8sVPMUFtaC7_ABRkmtw      1   \n",
       "\n",
       "                                                text  useful  \\\n",
       "0  Total bill for this horrible service? Over $8G...       6   \n",
       "1  I *adore* Travis at the Hard Rock's new Kelly ...       0   \n",
       "2  I have to say that this office really has it t...       3   \n",
       "3  Went in for a lunch. Steak sandwich was delici...       0   \n",
       "4  Today was my second out of three sessions I ha...       7   \n",
       "\n",
       "                  user_id  \n",
       "0  hG7b0MtEbXx5QzbzE6C_VA  \n",
       "1  yXQM5uF2jS6es16SJzNHfg  \n",
       "2  n6-Gk65cPZL6Uz8qRm3NYw  \n",
       "3  dacAIZ6fTM6mqwW5uxkskg  \n",
       "4  ssoyf2_x0EQMed6fgHeMyQ  "
      ]
     },
     "execution_count": 2,
     "metadata": {},
     "output_type": "execute_result"
    }
   ],
   "source": [
    "df = pd.read_csv('ModifiedData_Recommendation')\n",
    "# Slicing the data since the data was too big and the kernel had been crashing.\n",
    "df = df.iloc[:10000, :]\n",
    "df.drop(df.columns[0], axis=1, inplace=True)\n",
    "print(df.columns)\n",
    "df.head()"
   ]
  },
  {
   "cell_type": "code",
   "execution_count": 6,
   "metadata": {},
   "outputs": [
    {
     "data": {
      "text/plain": [
       "9366"
      ]
     },
     "execution_count": 6,
     "metadata": {},
     "output_type": "execute_result"
    }
   ],
   "source": [
    "df.user_id.unique().shape[0]"
   ]
  },
  {
   "cell_type": "code",
   "execution_count": 7,
   "metadata": {},
   "outputs": [
    {
     "name": "stdout",
     "output_type": "stream",
     "text": [
      "9366 4618\n"
     ]
    }
   ],
   "source": [
    "\"\"\"\n",
    "Finding the number of unique users and items which will be used for creating\n",
    "a user-item matrix\n",
    "\"\"\"\n",
    "num_users = df.user_id.unique().shape[0]\n",
    "num_items = df.business_id.unique().shape[0]\n",
    "\n",
    "\"\"\" Sanity Check \"\"\"\n",
    "print(num_users, num_items)"
   ]
  },
  {
   "cell_type": "code",
   "execution_count": 4,
   "metadata": {},
   "outputs": [],
   "source": [
    "\"\"\" Creating a unique numeric id for every user_id \"\"\"\n",
    "\n",
    "unique_users = df.user_id.unique()\n",
    "user_id_dict = {}\n",
    "\n",
    "for number,user in enumerate(unique_users):\n",
    "    user_id_dict[user] = [number, user]\n",
    "\n",
    "# Each element in user_id_dict now looks like this:  TQY1CtRrKuNJS4dSDLbjdw [274, 'TQY1CtRrKuNJS4dSDLbjdw']\n",
    "# The key is the  user_id and the value is a list containing the numeric id we've generated and the actual user_id"
   ]
  },
  {
   "cell_type": "code",
   "execution_count": 5,
   "metadata": {
    "scrolled": true
   },
   "outputs": [
    {
     "data": {
      "text/plain": [
       "' Run this code if you want to check the contents of user_id_dict '"
      ]
     },
     "execution_count": 5,
     "metadata": {},
     "output_type": "execute_result"
    }
   ],
   "source": [
    "\"\"\" Run this code if you want to check the contents of user_id_dict \"\"\"\n",
    "# for key,value in user_id_dict.items():\n",
    "#     print(key,value)"
   ]
  },
  {
   "cell_type": "code",
   "execution_count": 6,
   "metadata": {},
   "outputs": [],
   "source": [
    "\"\"\" Creating a unique numeric id for every business_id \"\"\"\n",
    "unique_items = df.business_id.unique()\n",
    "business_id_dict = {}\n",
    "business_id_dict_for_output = {}\n",
    "\n",
    "for number,item in enumerate(unique_items):\n",
    "    business_id_dict[item] = [number, item]\n",
    "    business_id_dict_for_output[number] = item\n",
    "\n",
    "# Each element in business_id_dict now looks like this:  vkLCTKcM_gw7XhhJsM8AsA [359, 'vkLCTKcM_gw7XhhJsM8AsA']\n",
    "# The key is the  business_id and the value is a list containing the numeric id that we've \n",
    "# generated and the actual business_id"
   ]
  },
  {
   "cell_type": "code",
   "execution_count": 7,
   "metadata": {
    "scrolled": true
   },
   "outputs": [
    {
     "data": {
      "text/plain": [
       "' Run this code if you want to check the contents of business_id_dict '"
      ]
     },
     "execution_count": 7,
     "metadata": {},
     "output_type": "execute_result"
    }
   ],
   "source": [
    "\"\"\" Run this code if you want to check the contents of business_id_dict \"\"\"\n",
    "# for key,value in business_id_dict.items():\n",
    "#     print(key,value)"
   ]
  },
  {
   "cell_type": "code",
   "execution_count": 8,
   "metadata": {},
   "outputs": [],
   "source": [
    "\"\"\" Adding the numeric user_id's to the original dataset \"\"\"\n",
    "numeric_user_id_list = []\n",
    "for each_user_id in df.user_id:\n",
    "    numeric_user_id_list.append(user_id_dict[each_user_id][0])\n",
    "df['numeric_user_id'] = numeric_user_id_list\n",
    "\n",
    "\"\"\" Adding the numeric business_id's to the original dataset \"\"\"\n",
    "numeric_business_id_list = []\n",
    "for each_business_id in df.business_id:\n",
    "    numeric_business_id_list.append(business_id_dict[each_business_id][0])\n",
    "df['numeric_business_id'] = numeric_business_id_list"
   ]
  },
  {
   "cell_type": "code",
   "execution_count": 9,
   "metadata": {
    "scrolled": true
   },
   "outputs": [
    {
     "data": {
      "text/html": [
       "<div>\n",
       "<style scoped>\n",
       "    .dataframe tbody tr th:only-of-type {\n",
       "        vertical-align: middle;\n",
       "    }\n",
       "\n",
       "    .dataframe tbody tr th {\n",
       "        vertical-align: top;\n",
       "    }\n",
       "\n",
       "    .dataframe thead th {\n",
       "        text-align: right;\n",
       "    }\n",
       "</style>\n",
       "<table border=\"1\" class=\"dataframe\">\n",
       "  <thead>\n",
       "    <tr style=\"text-align: right;\">\n",
       "      <th></th>\n",
       "      <th>business_id</th>\n",
       "      <th>cool</th>\n",
       "      <th>date</th>\n",
       "      <th>funny</th>\n",
       "      <th>review_id</th>\n",
       "      <th>stars</th>\n",
       "      <th>text</th>\n",
       "      <th>useful</th>\n",
       "      <th>user_id</th>\n",
       "      <th>numeric_user_id</th>\n",
       "      <th>numeric_business_id</th>\n",
       "    </tr>\n",
       "  </thead>\n",
       "  <tbody>\n",
       "    <tr>\n",
       "      <th>0</th>\n",
       "      <td>ujmEBvifdJM6h6RLv4wQIg</td>\n",
       "      <td>0</td>\n",
       "      <td>2013-05-07 04:34:36</td>\n",
       "      <td>1</td>\n",
       "      <td>Q1sbwvVQXV2734tPgoKj4Q</td>\n",
       "      <td>1</td>\n",
       "      <td>Total bill for this horrible service? Over $8G...</td>\n",
       "      <td>6</td>\n",
       "      <td>hG7b0MtEbXx5QzbzE6C_VA</td>\n",
       "      <td>0</td>\n",
       "      <td>0</td>\n",
       "    </tr>\n",
       "    <tr>\n",
       "      <th>1</th>\n",
       "      <td>NZnhc2sEQy3RmzKTZnqtwQ</td>\n",
       "      <td>0</td>\n",
       "      <td>2017-01-14 21:30:33</td>\n",
       "      <td>0</td>\n",
       "      <td>GJXCdrto3ASJOqKeVWPi6Q</td>\n",
       "      <td>5</td>\n",
       "      <td>I *adore* Travis at the Hard Rock's new Kelly ...</td>\n",
       "      <td>0</td>\n",
       "      <td>yXQM5uF2jS6es16SJzNHfg</td>\n",
       "      <td>1</td>\n",
       "      <td>1</td>\n",
       "    </tr>\n",
       "    <tr>\n",
       "      <th>2</th>\n",
       "      <td>WTqjgwHlXbSFevF32_DJVw</td>\n",
       "      <td>0</td>\n",
       "      <td>2016-11-09 20:09:03</td>\n",
       "      <td>0</td>\n",
       "      <td>2TzJjDVDEuAW6MR5Vuc1ug</td>\n",
       "      <td>5</td>\n",
       "      <td>I have to say that this office really has it t...</td>\n",
       "      <td>3</td>\n",
       "      <td>n6-Gk65cPZL6Uz8qRm3NYw</td>\n",
       "      <td>2</td>\n",
       "      <td>2</td>\n",
       "    </tr>\n",
       "    <tr>\n",
       "      <th>3</th>\n",
       "      <td>ikCg8xy5JIg_NGPx-MSIDA</td>\n",
       "      <td>0</td>\n",
       "      <td>2018-01-09 20:56:38</td>\n",
       "      <td>0</td>\n",
       "      <td>yi0R0Ugj_xUx_Nek0-_Qig</td>\n",
       "      <td>5</td>\n",
       "      <td>Went in for a lunch. Steak sandwich was delici...</td>\n",
       "      <td>0</td>\n",
       "      <td>dacAIZ6fTM6mqwW5uxkskg</td>\n",
       "      <td>3</td>\n",
       "      <td>3</td>\n",
       "    </tr>\n",
       "    <tr>\n",
       "      <th>4</th>\n",
       "      <td>b1b1eb3uo-w561D0ZfCEiQ</td>\n",
       "      <td>0</td>\n",
       "      <td>2018-01-30 23:07:38</td>\n",
       "      <td>0</td>\n",
       "      <td>11a8sVPMUFtaC7_ABRkmtw</td>\n",
       "      <td>1</td>\n",
       "      <td>Today was my second out of three sessions I ha...</td>\n",
       "      <td>7</td>\n",
       "      <td>ssoyf2_x0EQMed6fgHeMyQ</td>\n",
       "      <td>4</td>\n",
       "      <td>4</td>\n",
       "    </tr>\n",
       "    <tr>\n",
       "      <th>5</th>\n",
       "      <td>eU_713ec6fTGNO4BegRaww</td>\n",
       "      <td>0</td>\n",
       "      <td>2013-01-20 13:25:59</td>\n",
       "      <td>0</td>\n",
       "      <td>fdiNeiN_hoCxCMy2wTRW9g</td>\n",
       "      <td>4</td>\n",
       "      <td>I'll be the first to admit that I was not exci...</td>\n",
       "      <td>0</td>\n",
       "      <td>w31MKYsNFMrjhWxxAb5wIw</td>\n",
       "      <td>5</td>\n",
       "      <td>5</td>\n",
       "    </tr>\n",
       "    <tr>\n",
       "      <th>6</th>\n",
       "      <td>3fw2X5bZYeW9xCz_zGhOHg</td>\n",
       "      <td>5</td>\n",
       "      <td>2016-05-07 01:21:02</td>\n",
       "      <td>4</td>\n",
       "      <td>G7XHMxG0bx9oBJNECG4IFg</td>\n",
       "      <td>3</td>\n",
       "      <td>Tracy dessert had a big name in Hong Kong and ...</td>\n",
       "      <td>5</td>\n",
       "      <td>jlu4CztcSxrKx56ba1a5AQ</td>\n",
       "      <td>6</td>\n",
       "      <td>6</td>\n",
       "    </tr>\n",
       "    <tr>\n",
       "      <th>7</th>\n",
       "      <td>zvO-PJCpNk4fgAVUnExYAA</td>\n",
       "      <td>1</td>\n",
       "      <td>2010-10-05 19:12:35</td>\n",
       "      <td>1</td>\n",
       "      <td>8e9HxxLjjqc9ez5ezzN7iQ</td>\n",
       "      <td>1</td>\n",
       "      <td>This place has gone down hill.  Clearly they h...</td>\n",
       "      <td>3</td>\n",
       "      <td>d6xvYpyzcfbF_AZ8vMB7QA</td>\n",
       "      <td>7</td>\n",
       "      <td>7</td>\n",
       "    </tr>\n",
       "    <tr>\n",
       "      <th>8</th>\n",
       "      <td>b2jN2mm9Wf3RcrZCgfo1cg</td>\n",
       "      <td>0</td>\n",
       "      <td>2015-01-18 14:04:18</td>\n",
       "      <td>0</td>\n",
       "      <td>qrffudO73zsslZbe8B9D3Q</td>\n",
       "      <td>2</td>\n",
       "      <td>I was really looking forward to visiting after...</td>\n",
       "      <td>1</td>\n",
       "      <td>sG_h0dIzTKWa3Q6fmb4u-g</td>\n",
       "      <td>8</td>\n",
       "      <td>8</td>\n",
       "    </tr>\n",
       "    <tr>\n",
       "      <th>9</th>\n",
       "      <td>oxwGyA17NL6c5t1Etg5WgQ</td>\n",
       "      <td>1</td>\n",
       "      <td>2012-02-29 21:52:43</td>\n",
       "      <td>0</td>\n",
       "      <td>RS_GTIT6836bCaPy637kNQ</td>\n",
       "      <td>3</td>\n",
       "      <td>It's a giant Best Buy with 66 registers.  I do...</td>\n",
       "      <td>1</td>\n",
       "      <td>nMeCE5-xsdleyxYuNZ_7rA</td>\n",
       "      <td>9</td>\n",
       "      <td>9</td>\n",
       "    </tr>\n",
       "  </tbody>\n",
       "</table>\n",
       "</div>"
      ],
      "text/plain": [
       "              business_id  cool                 date  funny  \\\n",
       "0  ujmEBvifdJM6h6RLv4wQIg     0  2013-05-07 04:34:36      1   \n",
       "1  NZnhc2sEQy3RmzKTZnqtwQ     0  2017-01-14 21:30:33      0   \n",
       "2  WTqjgwHlXbSFevF32_DJVw     0  2016-11-09 20:09:03      0   \n",
       "3  ikCg8xy5JIg_NGPx-MSIDA     0  2018-01-09 20:56:38      0   \n",
       "4  b1b1eb3uo-w561D0ZfCEiQ     0  2018-01-30 23:07:38      0   \n",
       "5  eU_713ec6fTGNO4BegRaww     0  2013-01-20 13:25:59      0   \n",
       "6  3fw2X5bZYeW9xCz_zGhOHg     5  2016-05-07 01:21:02      4   \n",
       "7  zvO-PJCpNk4fgAVUnExYAA     1  2010-10-05 19:12:35      1   \n",
       "8  b2jN2mm9Wf3RcrZCgfo1cg     0  2015-01-18 14:04:18      0   \n",
       "9  oxwGyA17NL6c5t1Etg5WgQ     1  2012-02-29 21:52:43      0   \n",
       "\n",
       "                review_id  stars  \\\n",
       "0  Q1sbwvVQXV2734tPgoKj4Q      1   \n",
       "1  GJXCdrto3ASJOqKeVWPi6Q      5   \n",
       "2  2TzJjDVDEuAW6MR5Vuc1ug      5   \n",
       "3  yi0R0Ugj_xUx_Nek0-_Qig      5   \n",
       "4  11a8sVPMUFtaC7_ABRkmtw      1   \n",
       "5  fdiNeiN_hoCxCMy2wTRW9g      4   \n",
       "6  G7XHMxG0bx9oBJNECG4IFg      3   \n",
       "7  8e9HxxLjjqc9ez5ezzN7iQ      1   \n",
       "8  qrffudO73zsslZbe8B9D3Q      2   \n",
       "9  RS_GTIT6836bCaPy637kNQ      3   \n",
       "\n",
       "                                                text  useful  \\\n",
       "0  Total bill for this horrible service? Over $8G...       6   \n",
       "1  I *adore* Travis at the Hard Rock's new Kelly ...       0   \n",
       "2  I have to say that this office really has it t...       3   \n",
       "3  Went in for a lunch. Steak sandwich was delici...       0   \n",
       "4  Today was my second out of three sessions I ha...       7   \n",
       "5  I'll be the first to admit that I was not exci...       0   \n",
       "6  Tracy dessert had a big name in Hong Kong and ...       5   \n",
       "7  This place has gone down hill.  Clearly they h...       3   \n",
       "8  I was really looking forward to visiting after...       1   \n",
       "9  It's a giant Best Buy with 66 registers.  I do...       1   \n",
       "\n",
       "                  user_id  numeric_user_id  numeric_business_id  \n",
       "0  hG7b0MtEbXx5QzbzE6C_VA                0                    0  \n",
       "1  yXQM5uF2jS6es16SJzNHfg                1                    1  \n",
       "2  n6-Gk65cPZL6Uz8qRm3NYw                2                    2  \n",
       "3  dacAIZ6fTM6mqwW5uxkskg                3                    3  \n",
       "4  ssoyf2_x0EQMed6fgHeMyQ                4                    4  \n",
       "5  w31MKYsNFMrjhWxxAb5wIw                5                    5  \n",
       "6  jlu4CztcSxrKx56ba1a5AQ                6                    6  \n",
       "7  d6xvYpyzcfbF_AZ8vMB7QA                7                    7  \n",
       "8  sG_h0dIzTKWa3Q6fmb4u-g                8                    8  \n",
       "9  nMeCE5-xsdleyxYuNZ_7rA                9                    9  "
      ]
     },
     "execution_count": 9,
     "metadata": {},
     "output_type": "execute_result"
    }
   ],
   "source": [
    "\"\"\" Sanity Check \"\"\"\n",
    "df.head(10)"
   ]
  },
  {
   "cell_type": "code",
   "execution_count": 10,
   "metadata": {},
   "outputs": [
    {
     "data": {
      "text/plain": [
       "(9366, 4618)"
      ]
     },
     "execution_count": 10,
     "metadata": {},
     "output_type": "execute_result"
    }
   ],
   "source": [
    "\"\"\" \n",
    "Creating a matrix of 0's with rows= num_users and columns = num_items\n",
    "This will be used to map the ratings given by every unique user to every \n",
    "unique item in the dataset \n",
    "(user-item matrix)\n",
    "\"\"\"\n",
    "data_matrix = np.zeros((num_users, num_items))\n",
    "data_matrix.shape"
   ]
  },
  {
   "cell_type": "code",
   "execution_count": 11,
   "metadata": {},
   "outputs": [
    {
     "data": {
      "text/html": [
       "<div>\n",
       "<style scoped>\n",
       "    .dataframe tbody tr th:only-of-type {\n",
       "        vertical-align: middle;\n",
       "    }\n",
       "\n",
       "    .dataframe tbody tr th {\n",
       "        vertical-align: top;\n",
       "    }\n",
       "\n",
       "    .dataframe thead th {\n",
       "        text-align: right;\n",
       "    }\n",
       "</style>\n",
       "<table border=\"1\" class=\"dataframe\">\n",
       "  <thead>\n",
       "    <tr style=\"text-align: right;\">\n",
       "      <th></th>\n",
       "      <th>numeric_user_id</th>\n",
       "      <th>numeric_business_id</th>\n",
       "      <th>stars</th>\n",
       "    </tr>\n",
       "  </thead>\n",
       "  <tbody>\n",
       "    <tr>\n",
       "      <th>0</th>\n",
       "      <td>0</td>\n",
       "      <td>0</td>\n",
       "      <td>1</td>\n",
       "    </tr>\n",
       "    <tr>\n",
       "      <th>1</th>\n",
       "      <td>1</td>\n",
       "      <td>1</td>\n",
       "      <td>5</td>\n",
       "    </tr>\n",
       "    <tr>\n",
       "      <th>2</th>\n",
       "      <td>2</td>\n",
       "      <td>2</td>\n",
       "      <td>5</td>\n",
       "    </tr>\n",
       "    <tr>\n",
       "      <th>3</th>\n",
       "      <td>3</td>\n",
       "      <td>3</td>\n",
       "      <td>5</td>\n",
       "    </tr>\n",
       "    <tr>\n",
       "      <th>4</th>\n",
       "      <td>4</td>\n",
       "      <td>4</td>\n",
       "      <td>1</td>\n",
       "    </tr>\n",
       "  </tbody>\n",
       "</table>\n",
       "</div>"
      ],
      "text/plain": [
       "   numeric_user_id  numeric_business_id  stars\n",
       "0                0                    0      1\n",
       "1                1                    1      5\n",
       "2                2                    2      5\n",
       "3                3                    3      5\n",
       "4                4                    4      1"
      ]
     },
     "execution_count": 11,
     "metadata": {},
     "output_type": "execute_result"
    }
   ],
   "source": [
    "\"\"\" \n",
    "Creating a new dataframe with the fields necessary to fill inside the data_matrix that we've created above \n",
    "\"\"\"\n",
    "cols = ['numeric_user_id', 'numeric_business_id', 'stars']\n",
    "df_new = pd.DataFrame()\n",
    "df_new = df[cols]\n",
    "df_new.head()"
   ]
  },
  {
   "cell_type": "code",
   "execution_count": 12,
   "metadata": {},
   "outputs": [
    {
     "data": {
      "text/html": [
       "<div>\n",
       "<style scoped>\n",
       "    .dataframe tbody tr th:only-of-type {\n",
       "        vertical-align: middle;\n",
       "    }\n",
       "\n",
       "    .dataframe tbody tr th {\n",
       "        vertical-align: top;\n",
       "    }\n",
       "\n",
       "    .dataframe thead th {\n",
       "        text-align: right;\n",
       "    }\n",
       "</style>\n",
       "<table border=\"1\" class=\"dataframe\">\n",
       "  <thead>\n",
       "    <tr style=\"text-align: right;\">\n",
       "      <th></th>\n",
       "      <th>numeric_user_id</th>\n",
       "      <th>numeric_business_id</th>\n",
       "      <th>stars</th>\n",
       "    </tr>\n",
       "  </thead>\n",
       "  <tbody>\n",
       "    <tr>\n",
       "      <th>0</th>\n",
       "      <td>0</td>\n",
       "      <td>0</td>\n",
       "      <td>1</td>\n",
       "    </tr>\n",
       "    <tr>\n",
       "      <th>1</th>\n",
       "      <td>1</td>\n",
       "      <td>1</td>\n",
       "      <td>5</td>\n",
       "    </tr>\n",
       "    <tr>\n",
       "      <th>2</th>\n",
       "      <td>2</td>\n",
       "      <td>2</td>\n",
       "      <td>5</td>\n",
       "    </tr>\n",
       "    <tr>\n",
       "      <th>3</th>\n",
       "      <td>3</td>\n",
       "      <td>3</td>\n",
       "      <td>5</td>\n",
       "    </tr>\n",
       "    <tr>\n",
       "      <th>4</th>\n",
       "      <td>4</td>\n",
       "      <td>4</td>\n",
       "      <td>1</td>\n",
       "    </tr>\n",
       "  </tbody>\n",
       "</table>\n",
       "</div>"
      ],
      "text/plain": [
       "   numeric_user_id  numeric_business_id  stars\n",
       "0                0                    0      1\n",
       "1                1                    1      5\n",
       "2                2                    2      5\n",
       "3                3                    3      5\n",
       "4                4                    4      1"
      ]
     },
     "execution_count": 12,
     "metadata": {},
     "output_type": "execute_result"
    }
   ],
   "source": [
    "df_new.head()"
   ]
  },
  {
   "cell_type": "code",
   "execution_count": 13,
   "metadata": {},
   "outputs": [],
   "source": [
    "\"\"\" Creating a user-item matrix which can be used to calculate the similarity between users and items\"\"\"\n",
    "for each_line in df_new.itertuples():\n",
    "    data_matrix[each_line[1], each_line[2]] = each_line[3]"
   ]
  },
  {
   "cell_type": "code",
   "execution_count": 14,
   "metadata": {},
   "outputs": [],
   "source": [
    "\"\"\" We will use cosine similarity to calculate the similarities \"\"\"\n",
    "\"\"\" We can use pairwise_distanc function from sklearn to calculate the cosine similarity \"\"\"\n",
    "\n",
    "from sklearn.metrics.pairwise import pairwise_distances\n",
    "\n",
    "# Calculating similarities between users for user-based collaborative filtering\n",
    "user_similarity = pairwise_distances(data_matrix, metric='cosine')\n",
    "\n",
    "# Calculating similarities between items for item-based collaborative filtering\n",
    "item_similarity = pairwise_distances(data_matrix.T, metric='cosine')"
   ]
  },
  {
   "cell_type": "code",
   "execution_count": 15,
   "metadata": {},
   "outputs": [],
   "source": [
    "\"\"\" Defining a function to make predictions based on the similarities that we have calculated above \"\"\"\n",
    "\n",
    "def predict(ratings, similarity, type='user'):\n",
    "    if type == 'user':\n",
    "        mean_user_rating = ratings.mean(axis=1)\n",
    "        # To make sure that mean_user_rating has the same format as ratings, we'll use np.newaxis.\n",
    "        ratings_diff = (ratings - mean_user_rating[:, np.newaxis])\n",
    "        pred = mean_user_rating[:, np.newaxis] + similarity.dot(ratings_diff) / np.array([np.abs(similarity).sum(axis=1)]).T\n",
    "    elif type == 'item':\n",
    "        pred = ratings.dot(similarity) / np.array([np.abs(similarity).sum(axis=1)])\n",
    "    \n",
    "    return pred"
   ]
  },
  {
   "cell_type": "code",
   "execution_count": 16,
   "metadata": {},
   "outputs": [],
   "source": [
    "\"\"\"\n",
    "The following function makes the predictions for a given user_id and returns a list of the top 10 predictions.\n",
    "\"\"\"\n",
    "\n",
    "def get_predictions(user, type_of_filtering='user'):\n",
    "    \"\"\"\n",
    "    Params: user_id for whom you want to find predictions and the type of filtering that you'd want to perform\n",
    "    Return: List of top 10 predictions\n",
    "    \"\"\"\n",
    "    mapped_user_id = user_id_dict[user][0]\n",
    "    if type_of_filtering == 'user':\n",
    "        predictions_for_user = predict(data_matrix, user_similarity, type='user')[mapped_user_id, :]\n",
    "    elif type_of_filtering == 'item':\n",
    "        # Calling the predict function that we've defined above and parsing the results\n",
    "        predictions_for_user = predict(data_matrix, item_similarity, type='item')[mapped_user_id, :]\n",
    "    temp_dict = {}\n",
    "    for index, business_to_predict in enumerate(predictions_for_user):\n",
    "        temp_dict[business_to_predict] = index\n",
    "    top_sorted_predictions = sorted(temp_dict.keys(), reverse=True)[:10]\n",
    "    temp_numeric_id_list = []\n",
    "    for each_prediction in top_sorted_predictions:\n",
    "        temp_numeric_id_list.append(temp_dict[each_prediction])\n",
    "    final_prediction_list = []\n",
    "    for single_prediction in temp_numeric_id_list:\n",
    "        final_prediction_list.append(business_id_dict_for_output[single_prediction])\n",
    "    print('The following the top 10 predictions for the given user:\\n')\n",
    "    return final_prediction_list"
   ]
  },
  {
   "cell_type": "code",
   "execution_count": 17,
   "metadata": {},
   "outputs": [
    {
     "name": "stdout",
     "output_type": "stream",
     "text": [
      "The following the top 10 predictions for the given user:\n",
      "\n"
     ]
    },
    {
     "data": {
      "text/plain": [
       "['Wxxvi3LZbHNIDwJ-ZimtnA',\n",
       " 'faPVqws-x-5k2CQKDNtHxw',\n",
       " 'ujHiaprwCQ5ewziu0Vi9rw',\n",
       " 'XXW_OFaYQkkGOGniujZFHg',\n",
       " 'SVGApDPNdpFlEjwRQThCxA',\n",
       " 'Xg5qEQiB-7L6kGJ5F4K3bQ',\n",
       " 'HhVmDybpU7L50Kb5A0jXTg',\n",
       " 'yNPh5SO-7wr8HPpVCDPbXQ',\n",
       " 'pH0BLkL4cbxKzu471VZnuA',\n",
       " 'wUKzaS1MHg94RGM6z8u9mw']"
      ]
     },
     "execution_count": 17,
     "metadata": {},
     "output_type": "execute_result"
    }
   ],
   "source": [
    "\"\"\" Finally, making the predictions for any user by providing the user_id \"\"\"\n",
    "\n",
    "# To make predictions with user based filtering, pass the keyword argument: type_of_filtering='user'\n",
    "\n",
    "get_predictions('hG7b0MtEbXx5QzbzE6C_VA', type_of_filtering='user')"
   ]
  },
  {
   "cell_type": "code",
   "execution_count": 18,
   "metadata": {},
   "outputs": [
    {
     "name": "stdout",
     "output_type": "stream",
     "text": [
      "The following the top 10 predictions for the given user:\n",
      "\n"
     ]
    },
    {
     "data": {
      "text/plain": [
       "['T2jKa-mP-zLjKX6oYRaU5Q',\n",
       " 'gkxmQi2cipbysXFgT_w_jA',\n",
       " 'lkM72Y21bjBqUGaW7iL7tQ',\n",
       " 'h8bJb1dIwPmUGiqstCy7lw',\n",
       " 'sqdhck-Ad8UiBTVRbhdepw',\n",
       " 'LPnGdeEJyMMO02e02PqZBA',\n",
       " 'Xbd_sL81qS3eMqISjHrW4g',\n",
       " 'QoRL0_AwNV-GkHFe8tvp2g',\n",
       " 'V1wBDq0zqq2dlyQvzD5PaA',\n",
       " 'GWO87Y-IqL54_Ijx6hTYAQ']"
      ]
     },
     "execution_count": 18,
     "metadata": {},
     "output_type": "execute_result"
    }
   ],
   "source": [
    "# To make predictions with item based filtering, pass the keyword argument: type_of_filtering='item'\n",
    "\n",
    "get_predictions('hG7b0MtEbXx5QzbzE6C_VA', type_of_filtering='item')"
   ]
  },
  {
   "cell_type": "code",
   "execution_count": 19,
   "metadata": {},
   "outputs": [
    {
     "data": {
      "text/plain": [
       "'\\nReference: https://www.analyticsvidhya.com/blog/2018/06/comprehensive-guide-recommendation-engine-python/\\n'"
      ]
     },
     "execution_count": 19,
     "metadata": {},
     "output_type": "execute_result"
    }
   ],
   "source": [
    "\"\"\"\n",
    "Reference: https://www.analyticsvidhya.com/blog/2018/06/comprehensive-guide-recommendation-engine-python/\n",
    "\"\"\""
   ]
  }
 ],
 "metadata": {
  "kernelspec": {
   "display_name": "Python 3",
   "language": "python",
   "name": "python3"
  },
  "language_info": {
   "codemirror_mode": {
    "name": "ipython",
    "version": 3
   },
   "file_extension": ".py",
   "mimetype": "text/x-python",
   "name": "python",
   "nbconvert_exporter": "python",
   "pygments_lexer": "ipython3",
   "version": "3.6.8"
  }
 },
 "nbformat": 4,
 "nbformat_minor": 2
}
